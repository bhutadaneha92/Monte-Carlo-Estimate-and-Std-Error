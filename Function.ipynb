{
  "nbformat": 4,
  "nbformat_minor": 0,
  "metadata": {
    "colab": {
      "provenance": [],
      "authorship_tag": "ABX9TyNdplH0X+7tQMZudZpSc5fy",
      "include_colab_link": true
    },
    "kernelspec": {
      "name": "python3",
      "display_name": "Python 3"
    },
    "language_info": {
      "name": "python"
    }
  },
  "cells": [
    {
      "cell_type": "markdown",
      "metadata": {
        "id": "view-in-github",
        "colab_type": "text"
      },
      "source": [
        "<a href=\"https://colab.research.google.com/github/bhutadaneha92/Monte-Carlo-Estimate-and-Std-Error/blob/main/Function.ipynb\" target=\"_parent\"><img src=\"https://colab.research.google.com/assets/colab-badge.svg\" alt=\"Open In Colab\"/></a>"
      ]
    },
    {
      "cell_type": "code",
      "execution_count": null,
      "metadata": {
        "colab": {
          "base_uri": "https://localhost:8080/"
        },
        "id": "Ghjev9sHcsBY",
        "outputId": "cbf68ffa-d89f-4f18-a430-315c9c364cd3"
      },
      "outputs": [
        {
          "output_type": "stream",
          "name": "stdout",
          "text": [
            "[-1.0856306   0.99734545]\n"
          ]
        }
      ],
      "source": [
        "import numpy as np\n",
        "import scipy.stats as sps\n",
        "import time\n",
        "\n",
        "\n",
        "def g0():\n",
        "    if not hasattr(g0, \"rng\"):\n",
        "        g0.rng = np.random.RandomState(seed=123)\n",
        "    return g0.rng.normal(size=(2,))\n",
        "a=g0()\n",
        "print(a)\n",
        "\n",
        "def g0_par(n):\n",
        "    if not hasattr(g0_par, \"rng\"):\n",
        "        g0_par.rng = np.random.RandomState(seed=123)\n",
        "        print(g0_par.rng)\n",
        "    return g0_par.rng.normal(size=(n, 2))\n",
        "\n",
        "\n",
        "def g1_par(n, a):\n",
        "    if not hasattr(g1_par, \"rng\"):\n",
        "        g1_par.rng = np.random.RandomState(seed=123)\n",
        "    return g1_par.rng.normal(size=(n, 2)) + np.array([a, 0])\n",
        "\n",
        "\n",
        "def f0(x):\n",
        "    return np.amin(x)\n",
        "\n",
        "\n",
        "\n",
        "def f0_slow(x):\n",
        "    time.sleep(0.01)\n",
        "    return f0(x)\n",
        "\n",
        "\n",
        "def f0_buggy(x):\n",
        "    if not hasattr(f0_buggy, \"rng\"):\n",
        "        f0_buggy.rng = np.random.RandomState(seed=123)\n",
        "        f0_buggy.NAN_PROB = 0.1\n",
        "    return np.nan if f0_buggy.rng.rand() < f0_buggy.NAN_PROB else f0(x)\n",
        "\n",
        "\n",
        "def f1_par(X):\n",
        "    X2 = np.stack([np.abs(X[:, 0]), X[:, 1]], axis=1)\n",
        "    return np.amin(X2, axis=1)\n",
        "\n",
        "\n",
        "def h(a):\n",
        "    return sps.norm.cdf(-1.25) * (sps.norm.cdf(-(1.25 - a)) + sps.norm.cdf(-1.25 - a))\n"
      ]
    }
  ]
}